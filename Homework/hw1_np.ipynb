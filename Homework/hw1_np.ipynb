{
 "cells": [
  {
   "cell_type": "code",
   "execution_count": null,
   "id": "589bb1f5-fbe1-4b9d-914e-5ead8c599db5",
   "metadata": {},
   "outputs": [],
   "source": [
    "# question 1\n",
    "mkdir zip_files\n",
    "mkdir csv_files\n",
    "mv *.zip /Users/nataliepegues/data4380.np/datasets/zip_files\n",
    "mv *.csv /Users/nataliepegues/data4380.np/datasets/csv_files"
   ]
  },
  {
   "cell_type": "code",
   "execution_count": null,
   "id": "51ac262e-aad9-4176-971a-9754b5c12a7b",
   "metadata": {},
   "outputs": [],
   "source": [
    "# question 2\n",
    "# putting the first row into each file\n",
    "head -n 1 diabetes_prediction_dataset.csv > diabetes_1.csv\n",
    "head -n 1 diabetes_prediction_dataset.csv > diabetes_2.csv\n",
    "head -n 1 diabetes_prediction_dataset.csv > diabetes_3.csv\n",
    "\n",
    "# splitting the original files into about 1/3\n",
    "head -n 35001 diabetes_prediction_dataset.csv | tail -n 35000 >> diabetes_1.csv\n",
    "head -n 70001 diabetes_prediction_dataset.csv | tail -n 35000 >> diabetes_2.csv\n",
    "head -n 100001 diabetes_prediction_dataset.csv | tail -n 30000 >> diabetes_3.csv"
   ]
  },
  {
   "cell_type": "code",
   "execution_count": null,
   "id": "c443c2a9-05f2-42df-a533-2422cf7657c6",
   "metadata": {},
   "outputs": [],
   "source": [
    "# question 3\n",
    "# putting the first row into each file\n",
    "head -n 1 Heart_Disease_Prediction.csv > hdp_absence.csv\n",
    "head -n 1 Heart_Disease_Prediction.csv > hdp_presence.csv\n",
    "\n",
    "# splitting between rows marked abscence or presence\n",
    "grep -i \"absence\" diabetes_prediction_dataset.csv | tail -n +2 >> hdp_absence.csv\n",
    "grep -i \"presence\" diabetes_prediction_dataset.csv | tail -n +2 >> hdp_presence.csv"
   ]
  },
  {
   "cell_type": "code",
   "execution_count": null,
   "id": "61b30df0-8bd5-44f7-a86a-b8d093aa0ccb",
   "metadata": {},
   "outputs": [],
   "source": [
    "# question 4\n",
    "grep -i \"No accidents reported\" car_web_scraped_dataset.csv | wc -l"
   ]
  },
  {
   "cell_type": "code",
   "execution_count": null,
   "id": "de95ca6a-673b-4810-90a4-1103f6213265",
   "metadata": {},
   "outputs": [],
   "source": [
    "# question 5\n",
    "sed -e 's/\\bsemi-furnished\\b/2/g' \\\n",
    "    -e 's/\\bunfurnished\\b/0/g' \\\n",
    "    -e 's/\\bfurnished\\b/1/g' \\\n",
    "    -e 's/\\byes\\b/1/g' \\\n",
    "    -e 's/\\bno\\b/0/g' \\\n",
    "    Housing.csv > Housing_cleaned.csv"
   ]
  },
  {
   "cell_type": "code",
   "execution_count": null,
   "id": "a690cd04-ba82-414f-ad07-45eab0fa83cd",
   "metadata": {},
   "outputs": [],
   "source": [
    "# question 6\n",
    "cut -d ',' -f2- Mall_Customers.csv > Mall_customers_cut.csv"
   ]
  },
  {
   "cell_type": "code",
   "execution_count": null,
   "id": "c38fc95b-9d87-4959-bfb1-02d075fe8e1c",
   "metadata": {},
   "outputs": [],
   "source": [
    "# question 7\n",
    "# i kept getting a parse error: bad expression, when doing this, but this is what i wrote and attempted\n",
    "tail -n +2 world_all_university_rank_and_rank_score.csv | cut -d',' -f2,3,4,5 | tr ',' '+' | bc > score_sums.csv \n",
    "\n",
    "# the awk function was what an LLM reccomended, and it seems like it works, but i'm not super sure how to fix my own code to make it work\n",
    "awk -F',' 'NR > 1 {\n",
    "    current_sum = 0\n",
    "    for (i = 2; i <= 5; i++) {\n",
    "        if ($i ~ /^[0-9.]+$/) {\n",
    "            current_sum += $i\n",
    "        } else {\n",
    "            current_sum += 0\n",
    "        }\n",
    "    }\n",
    "    print current_sum\n",
    "}' world_all_university_rank_and_rank_score.csv > score_sums.csv"
   ]
  },
  {
   "cell_type": "code",
   "execution_count": null,
   "id": "fa1251ae-dda0-4b9b-a952-08fdc85e4e99",
   "metadata": {},
   "outputs": [],
   "source": [
    "# question 8\n",
    "(head -n 1 \"cancer_patient_data_sets.csv\" && tail -n +2 \"cancer_patient_data_sets.csv\" | sort -t',' -k3 -n) > age_sorted.csv"
   ]
  }
 ],
 "metadata": {
  "kernelspec": {
   "display_name": "Python 3 (ipykernel)",
   "language": "python",
   "name": "python3"
  },
  "language_info": {
   "codemirror_mode": {
    "name": "ipython",
    "version": 3
   },
   "file_extension": ".py",
   "mimetype": "text/x-python",
   "name": "python",
   "nbconvert_exporter": "python",
   "pygments_lexer": "ipython3",
   "version": "3.13.2"
  }
 },
 "nbformat": 4,
 "nbformat_minor": 5
}
